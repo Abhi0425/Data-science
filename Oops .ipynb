{
 "cells": [
  {
   "cell_type": "markdown",
   "id": "913511d0-f1d4-4e75-9131-3c85f6f6d769",
   "metadata": {},
   "source": [
    "ans 1\n",
    "classes are the user defined data types defines the behaviour and behaviour of theor individual objects and objects are \n",
    "the instances of the class created with specifically defined data\n",
    "example   \n",
    "suppose we consider cars as  class and their objects are honda, maruti volks vagen etc are their objects"
   ]
  },
  {
   "cell_type": "markdown",
   "id": "77af5618-b839-461e-b43c-79cff635bf28",
   "metadata": {},
   "source": [
    "ans 2\n",
    "abstraction, inheritence, polymorphism, encapsulation"
   ]
  },
  {
   "cell_type": "markdown",
   "id": "31638aba-8045-4e2b-ad40-ba440eca4da4",
   "metadata": {},
   "source": [
    "ams 3\n",
    "\n",
    "The __init__ function is called every time an object is created from a class. The __init__ method lets the class initialize the object's attributes and serves no other purpose. It is only used within classes It acts aas constructor within the clases\n",
    "exaple\n",
    "om person is a class then their attributes will be his age, name, mobile number etc "
   ]
  },
  {
   "cell_type": "markdown",
   "id": "f5ec4797-9e0e-4283-9132-3ad85f117ea8",
   "metadata": {},
   "source": [
    "ans 4\n",
    "The self is used to represent the instance of the class. With this keyword, you can access the attributes and methods of the class in python. It binds the attributes with the given argument."
   ]
  },
  {
   "cell_type": "markdown",
   "id": "b96e8ded-57c0-4e1e-a5e8-a27c98d13bcb",
   "metadata": {},
   "source": [
    "ans 5\n",
    "Inheritance is a mechanism in which one class acquires the property of another class. For example, a child inherits the traits of his/her parents. With inheritance, we can reuse the fields and methods of the existing class.\n",
    "two types of class are there\n",
    "base class \n",
    "derived class\n",
    "example \n",
    " The class 'Car' inherits its properties from the class 'Automobiles' which inherits some of its properties from another class 'Vehicles'."
   ]
  },
  {
   "cell_type": "code",
   "execution_count": null,
   "id": "c760ca8a-13c8-40e3-a7b5-eb849235321e",
   "metadata": {},
   "outputs": [],
   "source": []
  },
  {
   "cell_type": "code",
   "execution_count": null,
   "id": "9bf96110-7282-42ff-b423-c10b55244053",
   "metadata": {},
   "outputs": [],
   "source": []
  }
 ],
 "metadata": {
  "kernelspec": {
   "display_name": "Python 3 (ipykernel)",
   "language": "python",
   "name": "python3"
  },
  "language_info": {
   "codemirror_mode": {
    "name": "ipython",
    "version": 3
   },
   "file_extension": ".py",
   "mimetype": "text/x-python",
   "name": "python",
   "nbconvert_exporter": "python",
   "pygments_lexer": "ipython3",
   "version": "3.10.8"
  }
 },
 "nbformat": 4,
 "nbformat_minor": 5
}
