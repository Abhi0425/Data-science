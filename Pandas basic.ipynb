{
 "cells": [
  {
   "cell_type": "code",
   "execution_count": 1,
   "id": "a01c625e-1811-41eb-af18-8a922dc4996b",
   "metadata": {},
   "outputs": [
    {
     "name": "stdout",
     "output_type": "stream",
     "text": [
      "0     4\n",
      "1     8\n",
      "2    15\n",
      "3    16\n",
      "4    23\n",
      "5    42\n",
      "dtype: int64\n"
     ]
    }
   ],
   "source": [
    "#ans 1\n",
    "import pandas as pd\n",
    "data= (4,8,15,16,23,42)\n",
    "ser = pd.Series(data)\n",
    "print(ser)"
   ]
  },
  {
   "cell_type": "code",
   "execution_count": 2,
   "id": "e1ec3257-6416-4408-b513-967721e7d555",
   "metadata": {},
   "outputs": [
    {
     "data": {
      "text/plain": [
       "pandas.core.series.Series"
      ]
     },
     "execution_count": 2,
     "metadata": {},
     "output_type": "execute_result"
    }
   ],
   "source": [
    "type(ser)"
   ]
  },
  {
   "cell_type": "code",
   "execution_count": 9,
   "id": "25125501-1617-4a6f-9cd4-0ebbab74cf6f",
   "metadata": {},
   "outputs": [
    {
     "name": "stdout",
     "output_type": "stream",
     "text": [
      "     Name  Age  Gender\n",
      "0   Alice   25  Female\n",
      "1     Bob   30    Male\n",
      "2  Claire   27   Feale\n"
     ]
    }
   ],
   "source": [
    "#ans 3\n",
    "\n",
    "data2 = {\"Name\":['Alice' , 'Bob' , 'Claire'],\n",
    "      \"Age\" : [ 25 , 30 , 27] ,\n",
    "      \"Gender\" : ['Female' , 'Male' , 'Feale']}\n",
    "df = pd.DataFrame(data2)\n",
    "print(df)\n",
    "#print(df.loc[]\n"
   ]
  },
  {
   "cell_type": "code",
   "execution_count": 4,
   "id": "e184a858-257b-412a-a0b3-197437087567",
   "metadata": {},
   "outputs": [
    {
     "name": "stdout",
     "output_type": "stream",
     "text": [
      "0         2\n",
      "1         4\n",
      "2         5\n",
      "3         6\n",
      "4     35475\n",
      "5      6486\n",
      "6     24664\n",
      "7      6473\n",
      "8      6468\n",
      "9       268\n",
      "10     abhi\n",
      "11     True\n",
      "dtype: object\n"
     ]
    }
   ],
   "source": [
    "# ans 2\n",
    "data1 = [2,4,5,6, 35475,6486,24664,6473,6468,268,\"abhi\" , True]\n",
    "ser =pd.Series(data1)\n",
    "print(ser)"
   ]
  },
  {
   "cell_type": "markdown",
   "id": "58af5446-3599-4bed-adc5-99cf1e283530",
   "metadata": {},
   "source": [
    "# ans 4\n",
    "DataFrame is a 2-dimensional labeled data structure with columns of potentially different types. \n",
    " it is likely as  spreadsheet or SQL table, or a dict of Series objects. \n",
    "\n",
    "\n",
    "1- pandas series is One-dimensional while dataframe is\ttwo-dimensional\n",
    "2- pandas series have Homogenous – Series elements must be of the same data type ehile dataframe have \tHeterogenous – DataFrame elements can have\n",
    "different data types.\n",
    "pandas series is immutable while dataframe is mutable."
   ]
  },
  {
   "cell_type": "raw",
   "id": "6d6c35ae-8986-42ef-b398-0557cab9b8ab",
   "metadata": {},
   "source": [
    " ans 5\n",
    "head and Tail Shape, Size and Info.are the two most basic functions after reading data is to know the number \n",
    "#of rows and columns, and to know the datatype of variables describe , value counts columns \n",
    "\n",
    "\n",
    "df = pd.read_csv(\"services.csv\")\n"
   ]
  },
  {
   "cell_type": "code",
   "execution_count": 18,
   "id": "6b91fe1c-654f-4c0c-be20-c2eba006de47",
   "metadata": {},
   "outputs": [
    {
     "data": {
      "text/html": [
       "<div>\n",
       "<style scoped>\n",
       "    .dataframe tbody tr th:only-of-type {\n",
       "        vertical-align: middle;\n",
       "    }\n",
       "\n",
       "    .dataframe tbody tr th {\n",
       "        vertical-align: top;\n",
       "    }\n",
       "\n",
       "    .dataframe thead th {\n",
       "        text-align: right;\n",
       "    }\n",
       "</style>\n",
       "<table border=\"1\" class=\"dataframe\">\n",
       "  <thead>\n",
       "    <tr style=\"text-align: right;\">\n",
       "      <th></th>\n",
       "      <th>id</th>\n",
       "      <th>location_id</th>\n",
       "      <th>program_id</th>\n",
       "      <th>accepted_payments</th>\n",
       "      <th>alternate_name</th>\n",
       "      <th>application_process</th>\n",
       "      <th>audience</th>\n",
       "      <th>description</th>\n",
       "      <th>eligibility</th>\n",
       "      <th>email</th>\n",
       "      <th>...</th>\n",
       "      <th>interpretation_services</th>\n",
       "      <th>keywords</th>\n",
       "      <th>languages</th>\n",
       "      <th>name</th>\n",
       "      <th>required_documents</th>\n",
       "      <th>service_areas</th>\n",
       "      <th>status</th>\n",
       "      <th>wait_time</th>\n",
       "      <th>website</th>\n",
       "      <th>taxonomy_ids</th>\n",
       "    </tr>\n",
       "  </thead>\n",
       "  <tbody>\n",
       "    <tr>\n",
       "      <th>0</th>\n",
       "      <td>1</td>\n",
       "      <td>1</td>\n",
       "      <td>NaN</td>\n",
       "      <td>NaN</td>\n",
       "      <td>NaN</td>\n",
       "      <td>Walk in or apply by phone.</td>\n",
       "      <td>Older adults age 55 or over, ethnic minorities...</td>\n",
       "      <td>A walk-in center for older adults that provide...</td>\n",
       "      <td>Age 55 or over for most programs, age 60 or ov...</td>\n",
       "      <td>NaN</td>\n",
       "      <td>...</td>\n",
       "      <td>NaN</td>\n",
       "      <td>ADULT PROTECTION AND CARE SERVICES, Meal Sites...</td>\n",
       "      <td>NaN</td>\n",
       "      <td>Fair Oaks Adult Activity Center</td>\n",
       "      <td>NaN</td>\n",
       "      <td>Colma</td>\n",
       "      <td>active</td>\n",
       "      <td>No wait.</td>\n",
       "      <td>NaN</td>\n",
       "      <td>NaN</td>\n",
       "    </tr>\n",
       "    <tr>\n",
       "      <th>1</th>\n",
       "      <td>2</td>\n",
       "      <td>2</td>\n",
       "      <td>NaN</td>\n",
       "      <td>NaN</td>\n",
       "      <td>NaN</td>\n",
       "      <td>Apply by phone for an appointment.</td>\n",
       "      <td>Residents of San Mateo County age 55 or over</td>\n",
       "      <td>Provides training and job placement to eligibl...</td>\n",
       "      <td>Age 55 or over, county resident and willing an...</td>\n",
       "      <td>NaN</td>\n",
       "      <td>...</td>\n",
       "      <td>NaN</td>\n",
       "      <td>EMPLOYMENT/TRAINING SERVICES, Job Development,...</td>\n",
       "      <td>NaN</td>\n",
       "      <td>Second Career Employment Program</td>\n",
       "      <td>NaN</td>\n",
       "      <td>San Mateo County</td>\n",
       "      <td>active</td>\n",
       "      <td>Varies.</td>\n",
       "      <td>NaN</td>\n",
       "      <td>NaN</td>\n",
       "    </tr>\n",
       "  </tbody>\n",
       "</table>\n",
       "<p>2 rows × 22 columns</p>\n",
       "</div>"
      ],
      "text/plain": [
       "   id  location_id  program_id accepted_payments alternate_name  \\\n",
       "0   1            1         NaN               NaN            NaN   \n",
       "1   2            2         NaN               NaN            NaN   \n",
       "\n",
       "                  application_process  \\\n",
       "0          Walk in or apply by phone.   \n",
       "1  Apply by phone for an appointment.   \n",
       "\n",
       "                                            audience  \\\n",
       "0  Older adults age 55 or over, ethnic minorities...   \n",
       "1       Residents of San Mateo County age 55 or over   \n",
       "\n",
       "                                         description  \\\n",
       "0  A walk-in center for older adults that provide...   \n",
       "1  Provides training and job placement to eligibl...   \n",
       "\n",
       "                                         eligibility email  ...  \\\n",
       "0  Age 55 or over for most programs, age 60 or ov...   NaN  ...   \n",
       "1  Age 55 or over, county resident and willing an...   NaN  ...   \n",
       "\n",
       "  interpretation_services                                           keywords  \\\n",
       "0                     NaN  ADULT PROTECTION AND CARE SERVICES, Meal Sites...   \n",
       "1                     NaN  EMPLOYMENT/TRAINING SERVICES, Job Development,...   \n",
       "\n",
       "  languages                              name required_documents  \\\n",
       "0       NaN   Fair Oaks Adult Activity Center                NaN   \n",
       "1       NaN  Second Career Employment Program                NaN   \n",
       "\n",
       "      service_areas  status wait_time website taxonomy_ids  \n",
       "0             Colma  active  No wait.     NaN          NaN  \n",
       "1  San Mateo County  active   Varies.     NaN          NaN  \n",
       "\n",
       "[2 rows x 22 columns]"
      ]
     },
     "execution_count": 18,
     "metadata": {},
     "output_type": "execute_result"
    }
   ],
   "source": [
    "df.head(2)"
   ]
  },
  {
   "cell_type": "markdown",
   "id": "e45040c3-06f8-48a2-b48f-7ed31e252d5d",
   "metadata": {},
   "source": [
    "#ans  6\n",
    "dataframe and panel are mutable in nature"
   ]
  },
  {
   "cell_type": "code",
   "execution_count": 28,
   "id": "2a227b4d-2897-4c94-a2fe-5bedb176fb35",
   "metadata": {},
   "outputs": [
    {
     "name": "stdout",
     "output_type": "stream",
     "text": [
      "      Name  Age   Occupation\n",
      "0     Abhi   25     Engineer\n",
      "1   Rashmi   30       Doctor\n",
      "2    Julia   35      Teacher\n",
      "3  Jahagir   40       Lawyer\n",
      "4    Rahul   34          SDE\n",
      "5  Saurabh   35  BackenD_Eng\n",
      "6      Jay   22    Civil_Eng\n"
     ]
    }
   ],
   "source": [
    "#ans 7\n",
    "import pandas as pd\n",
    "\n",
    "data3= {'Name': ['Abhi', 'Rashmi', 'Julia', 'Jahagir' , 'Rahul' , 'Saurabh' , 'Jay'],\n",
    "\n",
    "        'Age': [25, 30, 35, 40 , 34 , 35 , 22  ],\n",
    "\n",
    "        'Occupation': ['Engineer', 'Doctor', 'Teacher', 'Lawyer' , 'SDE' , 'BackenD_Eng' , 'Civil_Eng']}\n",
    "\n",
    "df = pd.DataFrame(data3)\n",
    "print(df)\n",
    "\n",
    "        \n",
    "\n"
   ]
  },
  {
   "cell_type": "code",
   "execution_count": null,
   "id": "e17f8ff0-c6ac-4a26-83bf-de09b9ad4825",
   "metadata": {},
   "outputs": [],
   "source": []
  }
 ],
 "metadata": {
  "kernelspec": {
   "display_name": "Python 3 (ipykernel)",
   "language": "python",
   "name": "python3"
  },
  "language_info": {
   "codemirror_mode": {
    "name": "ipython",
    "version": 3
   },
   "file_extension": ".py",
   "mimetype": "text/x-python",
   "name": "python",
   "nbconvert_exporter": "python",
   "pygments_lexer": "ipython3",
   "version": "3.10.8"
  }
 },
 "nbformat": 4,
 "nbformat_minor": 5
}
