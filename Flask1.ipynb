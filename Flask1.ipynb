{
 "cells": [
  {
   "cell_type": "markdown",
   "id": "abaf8490-4e8c-4bed-b55f-8a5a58189c90",
   "metadata": {},
   "source": [
    "ans 1\n",
    "\n",
    "flask is a lightweight framework which offer built in develpment server and fast debugger and it is easily scalable \n",
    "for the applications\n",
    "\n",
    "\n",
    "the primary advantages \n",
    "1 - built-in fast debugger, \n",
    "2 - secure cookies and unit testing support\n",
    "3-Unicode basis\n",
    "4- The framework allows developers to decide how exactly to build the application needed.b"
   ]
  },
  {
   "cell_type": "markdown",
   "id": "2e0d27f0-ac6c-4406-be3e-0ea58f53c3ae",
   "metadata": {},
   "source": [
    "ans 2 \n",
    "\n"
   ]
  },
  {
   "cell_type": "raw",
   "id": "f6cd547f-9c9e-492d-a740-1be2e58432ec",
   "metadata": {},
   "source": [
    "ans 3\n",
    "app routing is the technique used to map specific url with the associated  function intend to perform some task.\n",
    "\n",
    "It is used to access some particular page like Flask Tutorial in the web application.\n",
    "\n",
    "\n",
    "\n"
   ]
  },
  {
   "cell_type": "code",
   "execution_count": null,
   "id": "0b756158-6673-4974-b95b-d75857535378",
   "metadata": {},
   "outputs": [],
   "source": [
    "ans 4\n",
    "\n"
   ]
  },
  {
   "cell_type": "raw",
   "id": "b01ff39e-ce89-4c1c-af2d-1ec76caa42e7",
   "metadata": {},
   "source": [
    "ans 5\n",
    "url_for() function is used for url buliding in flask.\n",
    "\n",
    "\n",
    "from flask import flask\n",
    "\n",
    "@app.route(\"/\")\n",
    "def student():\n",
    "   return \"this is my first class in flask\"\n",
    "   \n",
    "if __name__==\"__main__\":\n",
    "    app.run(host=\"0.0.0.0\")\n",
    " "
   ]
  },
  {
   "cell_type": "code",
   "execution_count": null,
   "id": "6028b3ab-ccb4-423b-be69-9066ca2d1d25",
   "metadata": {},
   "outputs": [],
   "source": [
    "ans 2\n"
   ]
  },
  {
   "cell_type": "code",
   "execution_count": null,
   "id": "a70579aa-75ac-4741-b11e-85624e2271fb",
   "metadata": {},
   "outputs": [],
   "source": []
  }
 ],
 "metadata": {
  "kernelspec": {
   "display_name": "Python 3 (ipykernel)",
   "language": "python",
   "name": "python3"
  },
  "language_info": {
   "codemirror_mode": {
    "name": "ipython",
    "version": 3
   },
   "file_extension": ".py",
   "mimetype": "text/x-python",
   "name": "python",
   "nbconvert_exporter": "python",
   "pygments_lexer": "ipython3",
   "version": "3.10.8"
  }
 },
 "nbformat": 4,
 "nbformat_minor": 5
}
