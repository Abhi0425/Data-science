{
 "cells": [
  {
   "cell_type": "markdown",
   "id": "d91e80bc-6a78-41d7-b174-ba36d482b22a",
   "metadata": {},
   "source": [
    " Ans 1\n",
    " \n",
    "python programming language is developed by Guido Van Rossum"
   ]
  },
  {
   "cell_type": "markdown",
   "id": "39dea882-aeed-422f-ae5f-35595bd97ba8",
   "metadata": {},
   "source": [
    "Ans 2\n",
    "\n",
    "Python supports object oriented and structured programming"
   ]
  },
  {
   "cell_type": "markdown",
   "id": "17f3ca85-54c3-43b5-bd67-540f04056114",
   "metadata": {},
   "source": [
    "Ans 3\n",
    "\n",
    "Yes, Python is the case sensitive language"
   ]
  },
  {
   "cell_type": "markdown",
   "id": "ec65f68a-b1da-43c7-a4ff-34755fed7cef",
   "metadata": {},
   "source": [
    "Ans 4\n",
    "\n",
    "the correct extension of python is file.pyc\n",
    "\n"
   ]
  },
  {
   "cell_type": "markdown",
   "id": "59d67ea0-526f-4889-8182-fdc06fb2f558",
   "metadata": {},
   "source": [
    "Ans 5\n",
    "\n",
    "Python is an interpreted Language"
   ]
  },
  {
   "cell_type": "markdown",
   "id": "a88ba50b-bc6c-4812-9b6f-55ba0d805bc7",
   "metadata": {},
   "source": [
    "Ans 6  class, module and function body"
   ]
  },
  {
   "attachments": {},
   "cell_type": "markdown",
   "id": "fbad62b4-42dd-4f72-be26-98334a812896",
   "metadata": {},
   "source": [
    "Ans 7         # is used for single line comment\n"
   ]
  },
  {
   "cell_type": "markdown",
   "id": "80622f68-4515-41e0-b79c-6d4b3d706a42",
   "metadata": {},
   "source": [
    "Ans 8\n",
    "sys.version"
   ]
  },
  {
   "cell_type": "markdown",
   "id": "66ab37c0-7659-4e30-9539-f83f328724db",
   "metadata": {},
   "source": [
    "Ans 9 -lamda function"
   ]
  },
  {
   "cell_type": "markdown",
   "id": "55833ab0-f278-4988-9595-7f467605c82a",
   "metadata": {},
   "source": [
    "Ans 10\n",
    "\"PIP\" stands for pip install packages\n"
   ]
  },
  {
   "cell_type": "markdown",
   "id": "c30232d9-cf58-4985-bde4-afacf38969f9",
   "metadata": {},
   "source": [
    "Ans 11\n",
    "\n",
    "list(),map(),len(),dict(), set(),tupe(),list[],etc are the examples of buil in functions of python"
   ]
  },
  {
   "cell_type": "markdown",
   "id": "3a63a0b1-d90e-4aa6-a046-f74aa19d76d5",
   "metadata": {},
   "source": [
    "Ans 12\n",
    "the maximum possible length of an identifier in python is for 79 characters"
   ]
  },
  {
   "cell_type": "markdown",
   "id": "5d72e455-3a31-46f4-9336-9a8bb080e820",
   "metadata": {},
   "source": [
    "Ans 13\n",
    "Benifits of python\n",
    "1 interpreted language\n",
    "2 extensive library\n",
    "3 free and open source\n",
    "4 portibility\n",
    "5 ease of comprehension"
   ]
  },
  {
   "cell_type": "markdown",
   "id": "00aa91a2-5ee1-4ff0-966d-cf73d35befb6",
   "metadata": {},
   "source": [
    "Ans 14\n",
    "The memory is a heap that stores the program's objects and other data structures. The Python memory manager uses API methods to handle the allocation and deallocation of this heap space. "
   ]
  },
  {
   "cell_type": "markdown",
   "id": "ecf1dbbc-35b8-4e9d-b730-dd3565fbc9f6",
   "metadata": {},
   "source": [
    "Ans 15\n",
    " 1 Right click on My Computer and click on properties.\n",
    " 2 Click on Advanced System settings.\n",
    " 3 Click on Environment Variable tab.\n",
    " 4 Click on new tab of user variables.\n",
    " 5 Write path in variable name.\n",
    " 6 Copy the path of Python folder.\n",
    " 7 Paste path of Python in variable value. Click on Ok button: Click on Ok button\n"
   ]
  },
  {
   "cell_type": "markdown",
   "id": "b4ebd21e-1beb-4fc2-a022-6a1f0f6f5e67",
   "metadata": {},
   "source": [
    "Ans 16\n",
    "\n",
    "yes,Indentation is mandatory in python to define the blocks of statements"
   ]
  },
  {
   "cell_type": "code",
   "execution_count": null,
   "id": "3b6be784-fc3a-4ef2-bba0-be82f09cbf35",
   "metadata": {},
   "outputs": [],
   "source": []
  }
 ],
 "metadata": {
  "kernelspec": {
   "display_name": "Python 3 (ipykernel)",
   "language": "python",
   "name": "python3"
  },
  "language_info": {
   "codemirror_mode": {
    "name": "ipython",
    "version": 3
   },
   "file_extension": ".py",
   "mimetype": "text/x-python",
   "name": "python",
   "nbconvert_exporter": "python",
   "pygments_lexer": "ipython3",
   "version": "3.10.8"
  }
 },
 "nbformat": 4,
 "nbformat_minor": 5
}
