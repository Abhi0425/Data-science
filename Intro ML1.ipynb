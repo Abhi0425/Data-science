{
 "cells": [
  {
   "cell_type": "markdown",
   "id": "ec3753d2-0fab-48fe-a40d-5fcf6b753b4d",
   "metadata": {},
   "source": [
    "Ans 1\n",
    "a - Artificial Intelligence - Artificial intelligence is the simulation of human intelligence processes by machines, \n",
    "especially computer systems. Specific applications of AI include expert systems, natural language processing, speech recognition and\n",
    "machine vision.\n",
    "b- Machine Learning- Machine learning is a branch of artificial intelligence (AI) and computer science which focuses on the use of \n",
    "data and algorithms to imitate the way that humans learn, gradually improving its accuracy.\n",
    "c- Deep Learning- Deep learning is a method in artificial intelligence (AI) that teaches computers to process data in a way that is inspired by the human brain. Deep learning models can recognize complex patterns in pictures, text, sounds, and other data to produce accurate insights and predictions."
   ]
  },
  {
   "cell_type": "markdown",
   "id": "b9fac10b-14b2-4705-b99b-e43fdc83d985",
   "metadata": {},
   "source": [
    "Ans2\n",
    "Supervised learning, also known as supervised machine learning, is a subcategory of machine learning and artificial intelligence. \n",
    "It is defined by its use of labeled datasets to train algorithms that to classify data or predict outcomes accurately.\n",
    "\n",
    "the most commonly used Supervised Learning algorithms are decision tree, logistic regression, linear regression, \n",
    "support vector machine. "
   ]
  },
  {
   "cell_type": "markdown",
   "id": "b23d8588-20bc-4ba7-b0b2-529307cc441c",
   "metadata": {},
   "source": [
    "Ans 3\n",
    "Unsupervised learning, also known as unsupervised machine learning, uses machine learning algorithms to analyze and cluster unlabeled \n",
    "datasets. These algorithms discover hidden patterns or data groupings without the need for human intervention.\n",
    "Examples are dimension reduction and clustering."
   ]
  },
  {
   "cell_type": "markdown",
   "id": "fcc0098b-503f-401f-8df3-8837060739b3",
   "metadata": {},
   "source": [
    "Ans 4\n",
    "Artificial Intelligence is a branch of computer science. It involves building smart machines capable of performing tasks\n",
    "that need human intelligence.\n",
    "\n",
    "Machine Learning is the subsection of artificial intelligence based on algorithms and data usage. Machine learning requires\n",
    "complex math and a lot of coding to achieve the desired results.\n",
    "\n",
    "Deep learning is a subfield of artificial intelligence. It uses a multi-layered structure of algorithms called a neural network. \n",
    "DL algorithms also need data to learn and solve problems. We can also call it a subfield of machine learning.\n",
    "\n",
    "Data science is a discipline that uses various technologies and methods to analyze data. It combines computational science,\n",
    "statistics, mathematics, and company or business knowledge.\n"
   ]
  },
  {
   "cell_type": "markdown",
   "id": "32590f64-4722-465a-b22e-e4386956bfa8",
   "metadata": {},
   "source": [
    "Ans 5\n",
    "supervised learning\n",
    "Input data is labeled.\n",
    "Used for prediction and classification models.\n",
    "It takes direct feedback of the output.\n",
    "These models predict the output.\n",
    "It can be used in cases where we know the input and their respective outputs.\n",
    "\n",
    "unsupervised Learning-\n",
    "Input data is unlabeled.\n",
    "Used for extracting information from large amounts of data.\n",
    "Does not have a feedback mechanism.\n",
    "These models find underlying patterns in data.\n",
    "We can use these models where we only know the input data and do not have the knowledge of the corresponding output.\n",
    "\n",
    "Semisupervised Learning\n",
    "A large amount of input data is unlabeled while a small amount is labeled.\n",
    "It is used when labeling the whole dataset is expensive.\n",
    "It is a type of weak supervision.\n"
   ]
  },
  {
   "cell_type": "markdown",
   "id": "98250d6f-e894-4c10-aaa5-112d3d632896",
   "metadata": {},
   "source": [
    "Ans6\n",
    "Training data is the set of the data on which the actual training takes place. Validation split helps to improve\n",
    "the model performance by fine-tuning the model after each epoch. The test set informs us about the final accuracy of the model\n",
    "after completing the training phase.\n"
   ]
  },
  {
   "cell_type": "markdown",
   "id": "5f895af9-541b-47d7-80be-57093027bb3d",
   "metadata": {},
   "source": [
    "Ans7\n",
    "Unsupervised Anomaly Detection  is to detect previously unseen rare objects or events without any prior knowledge about these.\n",
    "The only information available is that the percentage of anomalies in the dataset is small, usually less than 1%.\n"
   ]
  },
  {
   "cell_type": "code",
   "execution_count": null,
   "id": "7d0eb572-5c0f-4c22-bd67-d3c60fac299f",
   "metadata": {},
   "outputs": [],
   "source": [
    "Ans 8\n",
    "The most commonly used Supervised Learning algorithms are decision tree, logistic regression, linear regression, support\n",
    "vector machine. The most commonly used Unsupervised Learning algorithms are k-means clustering, hierarchical clustering, and apriori\n",
    "algorithm."
   ]
  }
 ],
 "metadata": {
  "kernelspec": {
   "display_name": "Python 3 (ipykernel)",
   "language": "python",
   "name": "python3"
  },
  "language_info": {
   "codemirror_mode": {
    "name": "ipython",
    "version": 3
   },
   "file_extension": ".py",
   "mimetype": "text/x-python",
   "name": "python",
   "nbconvert_exporter": "python",
   "pygments_lexer": "ipython3",
   "version": "3.10.8"
  }
 },
 "nbformat": 4,
 "nbformat_minor": 5
}
